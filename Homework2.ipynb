{
 "cells": [
  {
   "cell_type": "code",
   "execution_count": 1,
   "metadata": {},
   "outputs": [
    {
     "name": "stdout",
     "output_type": "stream",
     "text": [
      "            sum_sq   df          F    PR(>F)\n",
      "C(Oil)    0.006706  2.0   6.352733  0.022285\n",
      "C(Truck)  0.092100  4.0  43.625730  0.000018\n",
      "Residual  0.004222  8.0        NaN       NaN\n",
      "\n",
      "Analisis:\n",
      "Terdapat perbedaan yang signifikan dalam konsumsi bahan bakar antara ketiga jenis oli (p-value = 0.0223).\n",
      "Terdapat perbedaan yang signifikan dalam konsumsi bahan bakar antara kelima truk (p-value = 0.0000).\n",
      "\n",
      "Kesimpulan: Baik jenis oli maupun truk memiliki efek signifikan terhadap konsumsi bahan bakar.\n"
     ]
    }
   ],
   "source": [
    "# your code goes here\n",
    "import pandas as pd\n",
    "import statsmodels.api as sm\n",
    "from statsmodels.formula.api import ols\n",
    "\n",
    "# Menyusun data\n",
    "data = {\n",
    "    'Oil': ['1', '1', '1', '1', '1', '2', '2', '2', '2', '2', '3', '3', '3', '3', '3'],\n",
    "    'Truck': ['1', '2', '3', '4', '5', '1', '2', '3', '4', '5', '1', '2', '3', '4', '5'],\n",
    "    'Fuel_Consumption': [0.500, 0.634, 0.487, 0.329, 0.512, 0.535, 0.675, 0.520, 0.435, 0.540, 0.513, 0.595, 0.488, 0.400, 0.510]\n",
    "}\n",
    "\n",
    "df = pd.DataFrame(data)\n",
    "\n",
    "# Melakukan ANOVA\n",
    "model = ols('Fuel_Consumption ~ C(Oil) + C(Truck)', data=df).fit()\n",
    "anova_table = sm.stats.anova_lm(model, typ=2)\n",
    "\n",
    "print(anova_table)\n",
    "\n",
    "# Analisis hasil ANOVA\n",
    "alpha = 0.05\n",
    "p_value_oil = anova_table['PR(>F)']['C(Oil)']\n",
    "p_value_truck = anova_table['PR(>F)']['C(Truck)']\n",
    "\n",
    "print(\"\\nAnalisis:\")\n",
    "if p_value_oil < alpha:\n",
    "    print(\"Terdapat perbedaan yang signifikan dalam konsumsi bahan bakar antara ketiga jenis oli (p-value = {:.4f}).\".format(p_value_oil))\n",
    "else:\n",
    "    print(\"Tidak terdapat perbedaan yang signifikan dalam konsumsi bahan bakar antara ketiga jenis oli (p-value = {:.4f}).\".format(p_value_oil))\n",
    "\n",
    "if p_value_truck < alpha:\n",
    "    print(\"Terdapat perbedaan yang signifikan dalam konsumsi bahan bakar antara kelima truk (p-value = {:.4f}).\".format(p_value_truck))\n",
    "else:\n",
    "    print(\"Tidak terdapat perbedaan yang signifikan dalam konsumsi bahan bakar antara kelima truk (p-value = {:.4f}).\".format(p_value_truck))\n",
    "\n",
    "# Kesimpulan\n",
    "if p_value_oil < alpha or p_value_truck < alpha:\n",
    "    print(\"\\nKesimpulan: Baik jenis oli maupun truk memiliki efek signifikan terhadap konsumsi bahan bakar.\")\n",
    "else:\n",
    "    print(\"\\nKesimpulan: Baik jenis oli maupun truk tidak memiliki efek signifikan terhadap konsumsi bahan bakar.\")"
   ]
  },
  {
   "cell_type": "code",
   "execution_count": 3,
   "metadata": {},
   "outputs": [
    {
     "name": "stdout",
     "output_type": "stream",
     "text": [
      "            sum_sq   df          F    PR(>F)\n",
      "C(Oil)    0.006706  2.0   6.352733  0.022285\n",
      "C(Truck)  0.092100  4.0  43.625730  0.000018\n",
      "Residual  0.004222  8.0        NaN       NaN\n"
     ]
    },
    {
     "data": {
      "image/png": "[encoded data removed]",
      "text/plain": [
       "<Figure size 1000x600 with 1 Axes>"
      ]
     },
     "metadata": {},
     "output_type": "display_data"
    },
    {
     "name": "stdout",
     "output_type": "stream",
     "text": [
      "There is a significant effect of oil type on fuel consumption.\n",
      "There is a significant effect of truck type on fuel consumption.\n"
     ]
    },
    {
     "name": "stderr",
     "output_type": "stream",
     "text": [
      "C:\\Users\\LENOVO\\AppData\\Local\\Temp\\ipykernel_18256\\2323142928.py:31: FutureWarning: Series.__getitem__ treating keys as positions is deprecated. In a future version, integer keys will always be treated as labels (consistent with DataFrame behavior). To access a value by position, use `ser.iloc[pos]`\n",
      "  if anova_table['PR(>F)'][0] < 0.05:\n",
      "C:\\Users\\LENOVO\\AppData\\Local\\Temp\\ipykernel_18256\\2323142928.py:36: FutureWarning: Series.__getitem__ treating keys as positions is deprecated. In a future version, integer keys will always be treated as labels (consistent with DataFrame behavior). To access a value by position, use `ser.iloc[pos]`\n",
      "  if anova_table['PR(>F)'][1] < 0.05:\n"
     ]
    }
   ],
   "source": [
    "import pandas as pd\n",
    "import statsmodels.api as sm\n",
    "from statsmodels.formula.api import ols\n",
    "import matplotlib.pyplot as plt\n",
    "\n",
    "# Data preparation\n",
    "data = {\n",
    "    'Oil': ['1', '1', '1', '1', '1', '2', '2', '2', '2', '2', '3', '3', '3', '3', '3'],\n",
    "    'Truck': ['1', '2', '3', '4', '5', '1', '2', '3', '4', '5', '1', '2', '3', '4', '5'],\n",
    "    'Fuel_Consumption': [0.500, 0.634, 0.487, 0.329, 0.512, 0.535, 0.675, 0.520, 0.435, 0.540, 0.513, 0.595, 0.488, 0.400, 0.510]\n",
    "}\n",
    "\n",
    "df = pd.DataFrame(data)\n",
    "\n",
    "# ANOVA analysis\n",
    "model = ols('Fuel_Consumption ~ C(Oil) + C(Truck)', data=df).fit()\n",
    "anova_table = sm.stats.anova_lm(model, typ=2)\n",
    "\n",
    "# Display ANOVA table\n",
    "print(anova_table)\n",
    "\n",
    "# Plotting the data\n",
    "plt.figure(figsize=(10, 6))\n",
    "plt.bar(df['Oil'], df['Fuel_Consumption'])\n",
    "plt.xlabel('Oil Type')\n",
    "plt.ylabel('Fuel Consumption')\n",
    "plt.title('Fuel Consumption by Oil Type')\n",
    "plt.show()\n",
    "\n",
    "# Analysis and conclusion\n",
    "if anova_table['PR(>F)'][0] < 0.05:\n",
    "    print(\"There is a significant effect of oil type on fuel consumption.\")\n",
    "else:\n",
    "    print(\"There is no significant effect of oil type on fuel consumption.\")\n",
    "\n",
    "if anova_table['PR(>F)'][1] < 0.05:\n",
    "    print(\"There is a significant effect of truck type on fuel consumption.\")\n",
    "else:\n",
    "    print(\"There is no significant effect of truck type on fuel consumption.\")"
   ]
  },
  {
   "cell_type": "code",
   "execution_count": 4,
   "metadata": {},
   "outputs": [
    {
     "name": "stdout",
     "output_type": "stream",
     "text": [
      "            sum_sq   df          F    PR(>F)\n",
      "C(Oil)    0.006706  2.0   6.352733  0.022285\n",
      "C(Truck)  0.092100  4.0  43.625730  0.000018\n",
      "Residual  0.004222  8.0        NaN       NaN\n"
     ]
    },
    {
     "data": {
      "image/png": "[encoded data removed]",
      "text/plain": [
       "<Figure size 1000x600 with 1 Axes>"
      ]
     },
     "metadata": {},
     "output_type": "display_data"
    },
    {
     "name": "stdout",
     "output_type": "stream",
     "text": [
      "There is a significant effect of oil type on fuel consumption.\n",
      "There is a significant effect of truck type on fuel consumption.\n"
     ]
    },
    {
     "name": "stderr",
     "output_type": "stream",
     "text": [
      "C:\\Users\\LENOVO\\AppData\\Local\\Temp\\ipykernel_18256\\2323142928.py:31: FutureWarning: Series.__getitem__ treating keys as positions is deprecated. In a future version, integer keys will always be treated as labels (consistent with DataFrame behavior). To access a value by position, use `ser.iloc[pos]`\n",
      "  if anova_table['PR(>F)'][0] < 0.05:\n",
      "C:\\Users\\LENOVO\\AppData\\Local\\Temp\\ipykernel_18256\\2323142928.py:36: FutureWarning: Series.__getitem__ treating keys as positions is deprecated. In a future version, integer keys will always be treated as labels (consistent with DataFrame behavior). To access a value by position, use `ser.iloc[pos]`\n",
      "  if anova_table['PR(>F)'][1] < 0.05:\n"
     ]
    }
   ],
   "source": [
    "import pandas as pd\n",
    "import statsmodels.api as sm\n",
    "from statsmodels.formula.api import ols\n",
    "import matplotlib.pyplot as plt\n",
    "\n",
    "# Data preparation\n",
    "data = {\n",
    "    'Oil': ['1', '1', '1', '1', '1', '2', '2', '2', '2', '2', '3', '3', '3', '3', '3'],\n",
    "    'Truck': ['1', '2', '3', '4', '5', '1', '2', '3', '4', '5', '1', '2', '3', '4', '5'],\n",
    "    'Fuel_Consumption': [0.500, 0.634, 0.487, 0.329, 0.512, 0.535, 0.675, 0.520, 0.435, 0.540, 0.513, 0.595, 0.488, 0.400, 0.510]\n",
    "}\n",
    "\n",
    "df = pd.DataFrame(data)\n",
    "\n",
    "# ANOVA analysis\n",
    "model = ols('Fuel_Consumption ~ C(Oil) + C(Truck)', data=df).fit()\n",
    "anova_table = sm.stats.anova_lm(model, typ=2)\n",
    "\n",
    "# Display ANOVA table\n",
    "print(anova_table)\n",
    "\n",
    "# Plotting the data\n",
    "plt.figure(figsize=(10, 6))\n",
    "plt.bar(df['Oil'], df['Fuel_Consumption'])\n",
    "plt.xlabel('Oil Type')\n",
    "plt.ylabel('Fuel Consumption')\n",
    "plt.title('Fuel Consumption by Oil Type')\n",
    "plt.show()\n",
    "\n",
    "# Analysis and conclusion\n",
    "if anova_table['PR(>F)'][0] < 0.05:\n",
    "    print(\"There is a significant effect of oil type on fuel consumption.\")\n",
    "else:\n",
    "    print(\"There is no significant effect of oil type on fuel consumption.\")\n",
    "\n",
    "if anova_table['PR(>F)'][1] < 0.05:\n",
    "    print(\"There is a significant effect of truck type on fuel consumption.\")\n",
    "else:\n",
    "    print(\"There is no significant effect of truck type on fuel consumption.\")"
   ]
  }
 ],
 "metadata": {
  "kernelspec": {
   "display_name": "Python 3",
   "language": "python",
   "name": "python3"
  },
  "language_info": {
   "codemirror_mode": {
    "name": "ipython",
    "version": 3
   },
   "file_extension": ".py",
   "mimetype": "text/x-python",
   "name": "python",
   "nbconvert_exporter": "python",
   "pygments_lexer": "ipython3",
   "version": "3.13.0"
  }
 },
 "nbformat": 4,
 "nbformat_minor": 2
}
