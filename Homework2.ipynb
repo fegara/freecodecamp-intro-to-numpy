{
 "cells": [
  {
   "cell_type": "code",
   "execution_count": 6,
   "metadata": {},
   "outputs": [
    {
     "name": "stdout",
     "output_type": "stream",
     "text": [
      "             sum_sq   df            F        PR(>F)\n",
      "Intercept  0.529021  1.0  1002.345100  1.078249e-09\n",
      "C(Oil)     0.006706  2.0     6.352733  2.228537e-02\n",
      "C(Truck)   0.092100  4.0    43.625730  1.781342e-05\n",
      "Residual   0.004222  8.0          NaN           NaN\n",
      "\n",
      "Analisis:\n",
      "Terdapat perbedaan yang signifikan dalam konsumsi bahan bakar antara ketiga jenis oli (p-value = 0.0223).\n",
      "Terdapat perbedaan yang signifikan dalam konsumsi bahan bakar antara kelima truk (p-value = 0.0000).\n",
      "\n",
      "Kesimpulan: Baik jenis oli maupun truk memiliki efek signifikan terhadap konsumsi bahan bakar.\n"
     ]
    }
   ],
   "source": [
    "# your code goes here\n",
    "import pandas as pd\n",
    "import statsmodels.api as sm\n",
    "from statsmodels.formula.api import ols\n",
    "\n",
    "# Menyusun data\n",
    "data = {\n",
    "    'Oil': ['1', '1', '1', '1', '1', '2', '2', '2', '2', '2', '3', '3', '3', '3', '3'],\n",
    "    'Truck': ['1', '2', '3', '4', '5', '1', '2', '3', '4', '5', '1', '2', '3', '4', '5'],\n",
    "    'Fuel_Consumption': [0.500, 0.634, 0.487, 0.329, 0.512, 0.535, 0.675, 0.520, 0.435, 0.540, 0.513, 0.595, 0.488, 0.400, 0.510]\n",
    "}\n",
    "\n",
    "df = pd.DataFrame(data)\n",
    "\n",
    "# Melakukan ANOVA\n",
    "model = ols('Fuel_Consumption ~ C(Oil) + C(Truck)', data=df).fit()\n",
    "anova_table = sm.stats.anova_lm(model, typ=2)\n",
    "\n",
    "print(anova_table)\n",
    "\n",
    "# Analisis hasil ANOVA\n",
    "alpha = 0.05\n",
    "p_value_oil = anova_table['PR(>F)']['C(Oil)']\n",
    "p_value_truck = anova_table['PR(>F)']['C(Truck)']\n",
    "\n",
    "print(\"\\nAnalisis:\")\n",
    "if p_value_oil < alpha:\n",
    "    print(\"Terdapat perbedaan yang signifikan dalam konsumsi bahan bakar antara ketiga jenis oli (p-value = {:.4f}).\".format(p_value_oil))\n",
    "else:\n",
    "    print(\"Tidak terdapat perbedaan yang signifikan dalam konsumsi bahan bakar antara ketiga jenis oli (p-value = {:.4f}).\".format(p_value_oil))\n",
    "\n",
    "if p_value_truck < alpha:\n",
    "    print(\"Terdapat perbedaan yang signifikan dalam konsumsi bahan bakar antara kelima truk (p-value = {:.4f}).\".format(p_value_truck))\n",
    "else:\n",
    "    print(\"Tidak terdapat perbedaan yang signifikan dalam konsumsi bahan bakar antara kelima truk (p-value = {:.4f}).\".format(p_value_truck))\n",
    "\n",
    "# Kesimpulan\n",
    "if p_value_oil < alpha or p_value_truck < alpha:\n",
    "    print(\"\\nKesimpulan: Baik jenis oli maupun truk memiliki efek signifikan terhadap konsumsi bahan bakar.\")\n",
    "else:\n",
    "    print(\"\\nKesimpulan: Baik jenis oli maupun truk tidak memiliki efek signifikan terhadap konsumsi bahan bakar.\")"
   ]
  },
  {
   "cell_type": "code",
   "execution_count": null,
   "metadata": {},
   "outputs": [],
   "source": []
  }
 ],
 "metadata": {
  "kernelspec": {
   "display_name": "Python 3",
   "language": "python",
   "name": "python3"
  },
  "language_info": {
   "codemirror_mode": {
    "name": "ipython",
    "version": 3
   },
   "file_extension": ".py",
   "mimetype": "text/x-python",
   "name": "python",
   "nbconvert_exporter": "python",
   "pygments_lexer": "ipython3",
   "version": "3.13.0"
  }
 },
 "nbformat": 4,
 "nbformat_minor": 2
}
